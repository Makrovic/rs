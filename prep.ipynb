{
 "cells": [
  {
   "attachments": {},
   "cell_type": "markdown",
   "metadata": {},
   "source": [
    "# Laptop Price Cleaning"
   ]
  },
  {
   "cell_type": "code",
   "execution_count": null,
   "metadata": {},
   "outputs": [],
   "source": [
    "import numpy as np\n",
    "import pandas as pd\n",
    "import regex as re\n",
    "from currency_converter import CurrencyConverter\n",
    "c = CurrencyConverter()\n",
    "\n",
    "df = pd.read_csv(\"laptop_price.csv\", encoding=\"latin-1\")\n",
    "df.head()"
   ]
  },
  {
   "cell_type": "code",
   "execution_count": null,
   "metadata": {},
   "outputs": [],
   "source": [
    "df = df.drop(\"laptop_ID\", axis=1)\n",
    "df = df.rename(columns=str.lower)\n",
    "df.columns"
   ]
  },
  {
   "attachments": {},
   "cell_type": "markdown",
   "metadata": {},
   "source": [
    "Ram"
   ]
  },
  {
   "cell_type": "code",
   "execution_count": null,
   "metadata": {},
   "outputs": [],
   "source": [
    "df[\"ram\"] = df[\"ram\"].replace(\"[GB]\", \"\", regex=True)\n",
    "df[\"ram\"] = pd.to_numeric(df[\"ram\"])\n",
    "df.head()"
   ]
  },
  {
   "attachments": {},
   "cell_type": "markdown",
   "metadata": {},
   "source": [
    "Weight"
   ]
  },
  {
   "cell_type": "code",
   "execution_count": null,
   "metadata": {},
   "outputs": [],
   "source": [
    "df[\"weight\"] = df[\"weight\"].replace(\"[kg]\", \"\", regex=True)\n",
    "df[\"weight\"] = pd.to_numeric(df[\"weight\"])\n",
    "df.head()"
   ]
  },
  {
   "attachments": {},
   "cell_type": "markdown",
   "metadata": {},
   "source": [
    "Storage Type & Memory 1"
   ]
  },
  {
   "cell_type": "code",
   "execution_count": null,
   "metadata": {},
   "outputs": [],
   "source": [
    "df['memory']=df['memory'].str.replace('1.0TB','1TB', regex=True)\n",
    "df['memory']=df['memory'].str.replace('1TB','1000GB')\n",
    "df['memory']=df['memory'].str.replace('2TB','2000GB')\n",
    "df['memory']=df['memory'].str.replace('GB','')\n",
    "\n",
    "split_mem = df[\"memory\"].str.split(\" \", n=1, expand=True)\n",
    "df[\"storage_type\"] = split_mem[1]\n",
    "df['storage_type']=df['storage_type'].str.replace(r' ','')\n",
    "df[\"memory_1\"] = split_mem[0]\n",
    "\n",
    "df[\"memory_1\"].value_counts()"
   ]
  },
  {
   "attachments": {},
   "cell_type": "markdown",
   "metadata": {},
   "source": [
    "Memory 2"
   ]
  },
  {
   "cell_type": "code",
   "execution_count": null,
   "metadata": {},
   "outputs": [],
   "source": [
    "memory_1=[]\n",
    "memory_2=[]\n",
    "for i in df['storage_type']:\n",
    "    if len(re.findall(r'\\+',i))==1: # DOUBLE DRIVE\n",
    "        one=re.findall(r'([0-9]+)',i)\n",
    "        memory_2.append(one[0])\n",
    "    else: # SINGLE DRIVE\n",
    "        one=re.findall(r'(\\w+)',i)\n",
    "        memory_2.append('NaN')\n",
    "\n",
    "df['memory_2'] = memory_2\n",
    "df['storage_type']=df['storage_type'].str.replace(r'([0-9]+)','',regex=True)\n",
    "df = df.drop(\"memory\", axis=1)\n",
    "df[[\"storage_type\", \"memory_2\"]].value_counts()"
   ]
  },
  {
   "attachments": {},
   "cell_type": "markdown",
   "metadata": {},
   "source": [
    "Cpu Speed"
   ]
  },
  {
   "cell_type": "code",
   "execution_count": null,
   "metadata": {},
   "outputs": [],
   "source": [
    "df['cpu_speed'] = df['cpu'].str.extract(r'(\\d+(?:\\.\\d+)?GHz)')\n",
    "df[\"cpu_speed\"] = df[\"cpu_speed\"].replace(\"[GHz]\", \"\", regex=True)\n",
    "df[\"cpu_speed\"] = df[\"cpu_speed\"].astype(float)\n",
    "\n",
    "df.head()"
   ]
  },
  {
   "attachments": {},
   "cell_type": "markdown",
   "metadata": {},
   "source": [
    "Cpu Vendor"
   ]
  },
  {
   "cell_type": "code",
   "execution_count": null,
   "metadata": {},
   "outputs": [],
   "source": [
    "split_vendor = df[\"cpu\"].str.split(\" \", n=1, expand=True)\n",
    "df[\"cpu_vendor\"] = split_vendor[0]\n",
    "df[\"cpu\"] = split_vendor[1]\n",
    "\n",
    "df['cpu']= df['cpu'].str.replace(r'(\\d+(?:\\.\\d+)?GHz)', '', regex=True)\n",
    "df.rename(columns={'cpu':'cpu_model'}, inplace=True)\n",
    "\n",
    "df[[\"cpu_vendor\", \"cpu_model\", \"cpu_speed\"]]"
   ]
  },
  {
   "attachments": {},
   "cell_type": "markdown",
   "metadata": {},
   "source": [
    "Screen Resolution"
   ]
  },
  {
   "cell_type": "code",
   "execution_count": null,
   "metadata": {},
   "outputs": [],
   "source": [
    "temp_reso = df[\"screenresolution\"].str.split(\" \")\n",
    "df[\"reso\"] = temp_reso.str.get(-1)\n",
    "\n",
    "df[[\"screen_width\", \"screen_height\"]] = df[\"reso\"].str.split(\"x\", expand=True)\n",
    "\n",
    "df[\"screen_type\"] = df['screenresolution'].replace(r'(\\d+x\\d+)','',regex=True)\n",
    "df['screen_type'] = df['screen_type'].replace(r'(Full HD|Quad HD|Quad HD|\\+|/|4K Ultra HD)','',regex=True)\n",
    "\n",
    "df = df.drop(\"screenresolution\", axis=1)\n",
    "df = df.drop(\"reso\", axis=1)\n",
    "df[[\"screen_width\", \"screen_height\", \"screen_type\"]]"
   ]
  },
  {
   "attachments": {},
   "cell_type": "markdown",
   "metadata": {},
   "source": [
    "Touchscreen"
   ]
  },
  {
   "cell_type": "code",
   "execution_count": null,
   "metadata": {},
   "outputs": [],
   "source": [
    "df['touch_screen'] = df['screen_type'].str.extract(r'(Touchscreen)')\n",
    "df['screen_type'] = df['screen_type'].replace(r'(Touchscreen)','',regex=True)\n",
    "df['touch_screen'] = df['touch_screen'].replace('Touchscreen',1)\n",
    "df['touch_screen'] = df['touch_screen'].replace(np.nan,0)\n",
    "\n",
    "df['touch_screen'].value_counts()"
   ]
  },
  {
   "attachments": {},
   "cell_type": "markdown",
   "metadata": {},
   "source": [
    "Screen Type"
   ]
  },
  {
   "cell_type": "code",
   "execution_count": null,
   "metadata": {},
   "outputs": [],
   "source": [
    "df['screen_type'] = df['screen_type'].replace(r'^\\s*$', 'Unspecified', regex=True)\n",
    "df['screen_type']"
   ]
  },
  {
   "attachments": {},
   "cell_type": "markdown",
   "metadata": {},
   "source": [
    "Gpu"
   ]
  },
  {
   "cell_type": "code",
   "execution_count": null,
   "metadata": {},
   "outputs": [],
   "source": [
    "temp_df001 = df[\"gpu\"].str.split()\n",
    "df[\"gpu_vendor\"] = temp_df001.str.get(0)\n",
    "\n",
    "df_temp002 = list(df[\"gpu\"].str.split())\n",
    "df_temp002\n",
    "\n",
    "df_temp003 = []\n",
    "for i in df_temp002:\n",
    "    df_temp003.append(\" \".join(i[1:]))\n",
    "df_temp003\n",
    "\n",
    "df[\"gpu_model\"] = df_temp003\n",
    "\n",
    "df = df.drop(\"gpu\", axis=1)\n",
    "df[[\"gpu_vendor\",\"gpu_model\"]].value_counts()"
   ]
  },
  {
   "attachments": {},
   "cell_type": "markdown",
   "metadata": {},
   "source": [
    "Price"
   ]
  },
  {
   "cell_type": "code",
   "execution_count": null,
   "metadata": {},
   "outputs": [],
   "source": [
    "df['price_rp'] = df.apply( lambda x: c.convert(x.price_euros, 'EUR', 'IDR'), axis = 1).astype(int)\n",
    "df[['price_euros','price_rp']]"
   ]
  },
  {
   "cell_type": "code",
   "execution_count": null,
   "metadata": {},
   "outputs": [],
   "source": [
    "df.rename(columns={\"typename\": \"type_name\"}, inplace=True)\n",
    "df.rename(columns={\"opsys\": \"os\"}, inplace=True)\n",
    "df = df.drop(\"memory\", axis=1)\n",
    "df.to_excel(\"output.xlsx\")\n",
    "df"
   ]
  }
 ],
 "metadata": {
  "kernelspec": {
   "display_name": "env",
   "language": "python",
   "name": "python3"
  },
  "language_info": {
   "codemirror_mode": {
    "name": "ipython",
    "version": 3
   },
   "file_extension": ".py",
   "mimetype": "text/x-python",
   "name": "python",
   "nbconvert_exporter": "python",
   "pygments_lexer": "ipython3",
   "version": "3.10.6"
  },
  "orig_nbformat": 4
 },
 "nbformat": 4,
 "nbformat_minor": 2
}
